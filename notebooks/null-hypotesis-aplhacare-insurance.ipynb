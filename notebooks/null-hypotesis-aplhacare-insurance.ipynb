{
 "cells": [
  {
   "cell_type": "code",
   "execution_count": 1,
   "id": "4e00b0b6",
   "metadata": {},
   "outputs": [
    {
     "name": "stderr",
     "output_type": "stream",
     "text": [
      "/usr/lib/python3/dist-packages/scipy/__init__.py:146: UserWarning: A NumPy version >=1.17.3 and <1.25.0 is required for this version of SciPy (detected version 1.26.3\n",
      "  warnings.warn(f\"A NumPy version >={np_minversion} and <{np_maxversion}\"\n"
     ]
    }
   ],
   "source": [
    "import numpy as np\n",
    "import pandas as pd\n",
    "import matplotlib.pyplot as plt\n",
    "from datetime import datetime\n",
    "import seaborn as sns\n",
    "\n",
    "import warnings\n",
    "warnings.filterwarnings('ignore')"
   ]
  },
  {
   "cell_type": "code",
   "execution_count": 2,
   "id": "ccdd11b8",
   "metadata": {},
   "outputs": [],
   "source": [
    "df = pd.read_csv('../data/MachineLearningRating_v3.txt', sep=\"|\")\n",
    "cols = df.columns"
   ]
  },
  {
   "cell_type": "code",
   "execution_count": null,
   "id": "5dfc6f83",
   "metadata": {},
   "outputs": [],
   "source": []
  },
  {
   "cell_type": "code",
   "execution_count": 3,
   "id": "aec43413",
   "metadata": {},
   "outputs": [],
   "source": [
    "features = ['TotalPremium','TotalClaims', 'SumInsured']"
   ]
  },
  {
   "cell_type": "code",
   "execution_count": null,
   "id": "61ec115b",
   "metadata": {},
   "outputs": [],
   "source": []
  },
  {
   "cell_type": "raw",
   "id": "681105da",
   "metadata": {},
   "source": [
    "# clean for the hypothesis test\n",
    "There are no risk differences across provinces \n",
    "There are no risk differences between zipcodes \n",
    "There are no significant margin (profit) difference between zip codes \n",
    "There are not significant risk difference between Women and Men\n"
   ]
  },
  {
   "cell_type": "code",
   "execution_count": 4,
   "id": "2c185718",
   "metadata": {},
   "outputs": [],
   "source": [
    "df_gender = df[df['Gender'] != 'Not specified']"
   ]
  },
  {
   "cell_type": "code",
   "execution_count": 5,
   "id": "61552fd4",
   "metadata": {},
   "outputs": [
    {
     "data": {
      "text/plain": [
       "59108"
      ]
     },
     "execution_count": 5,
     "metadata": {},
     "output_type": "execute_result"
    }
   ],
   "source": [
    "len(df_gender['Gender'])"
   ]
  },
  {
   "cell_type": "code",
   "execution_count": 6,
   "id": "95b5e671",
   "metadata": {
    "scrolled": true
   },
   "outputs": [],
   "source": [
    "df_gender['Gender'] = (df_gender['Gender'] == 'Male').astype(int)\n",
    "df_gender = df_gender[['TotalPremium','TotalClaims', 'SumInsured', 'Gender']]"
   ]
  },
  {
   "cell_type": "code",
   "execution_count": 7,
   "id": "c8dc862d",
   "metadata": {},
   "outputs": [],
   "source": [
    "from sklearn.preprocessing import StandardScaler"
   ]
  },
  {
   "cell_type": "code",
   "execution_count": null,
   "id": "9b2b905f",
   "metadata": {},
   "outputs": [],
   "source": []
  },
  {
   "cell_type": "code",
   "execution_count": null,
   "id": "b30d8329",
   "metadata": {},
   "outputs": [],
   "source": []
  },
  {
   "cell_type": "code",
   "execution_count": 8,
   "id": "135e2d14",
   "metadata": {},
   "outputs": [
    {
     "name": "stdout",
     "output_type": "stream",
     "text": [
      "Accept the null hypothesis. There is no a significant risk difference between Province\n"
     ]
    }
   ],
   "source": [
    "from scipy.stats import chi2_contingency, ttest_ind\n",
    "\n",
    "contingency_table = pd.crosstab(df['Province'], df['TotalClaims'])\n",
    "chi2, p_value, _, _ = chi2_contingency(contingency_table)\n",
    "\n",
    "alpha = 0.05\n",
    "\n",
    "if p_value < alpha:\n",
    "    print(\"Reject the null hypothesis. There is a significant risk diffrenece between Province\")\n",
    "else:\n",
    "    print(\"Accept the null hypothesis. There is no a significant risk difference between Province\")\n"
   ]
  },
  {
   "cell_type": "code",
   "execution_count": null,
   "id": "7deb40b8",
   "metadata": {},
   "outputs": [],
   "source": []
  },
  {
   "cell_type": "code",
   "execution_count": 9,
   "id": "5e9c37e1",
   "metadata": {},
   "outputs": [
    {
     "name": "stdout",
     "output_type": "stream",
     "text": [
      "Accept the null hypothesis. There is no a significant risk difference between zip codes.\n"
     ]
    }
   ],
   "source": [
    "sample1_df, sample2_df = df.sample(), df.sample()\n",
    "\n",
    "zipa_df, zipb_df = sample1_df['TotalClaims'], sample2_df['TotalClaims'] \n",
    "t_stat, p_value  = ttest_ind(zipa_df, zipb_df)\n",
    "\n",
    "alpha = 0.05\n",
    "\n",
    "if p_value < alpha:\n",
    "    print(\"Reject the null hypothesis. There is a significant risk diffrenece between zip codes.\")\n",
    "else:\n",
    "    print(\"Accept the null hypothesis. There is no a significant risk difference between zip codes.\")\n"
   ]
  },
  {
   "cell_type": "code",
   "execution_count": 10,
   "id": "14dbef84",
   "metadata": {},
   "outputs": [
    {
     "name": "stdout",
     "output_type": "stream",
     "text": [
      "Accept the null hypothesis. There is no a significant risk difference between Male and woman\n"
     ]
    }
   ],
   "source": [
    "# female_outcomes = df[df['Gender'] == 'Female']['TotalClaims']\n",
    "# male_outcomes = df_gender[df['Gender'] == 1]['TotalClaims']\n",
    "\n",
    "contingency_table_gender = pd.crosstab(df['Gender'], df['TotalClaims'])\n",
    "chi2_gender, p_value_gender, _, _ = chi2_contingency(contingency_table_gender)\n",
    "\n",
    "alpha = 0.05\n",
    "\n",
    "if p_value < alpha:\n",
    "    print(\"Reject the null hypothesis. There is a significant risk diffrenece between Male and woman\")\n",
    "else:\n",
    "    print(\"Accept the null hypothesis. There is no a significant risk difference between Male and woman\")\n"
   ]
  },
  {
   "cell_type": "code",
   "execution_count": null,
   "id": "2531763d",
   "metadata": {},
   "outputs": [],
   "source": []
  },
  {
   "cell_type": "code",
   "execution_count": null,
   "id": "74611c0b",
   "metadata": {},
   "outputs": [],
   "source": []
  },
  {
   "cell_type": "code",
   "execution_count": null,
   "id": "9c0ba63f",
   "metadata": {},
   "outputs": [],
   "source": []
  }
 ],
 "metadata": {
  "kernelspec": {
   "display_name": "Python 3 (ipykernel)",
   "language": "python",
   "name": "python3"
  },
  "language_info": {
   "codemirror_mode": {
    "name": "ipython",
    "version": 3
   },
   "file_extension": ".py",
   "mimetype": "text/x-python",
   "name": "python",
   "nbconvert_exporter": "python",
   "pygments_lexer": "ipython3",
   "version": "3.10.12"
  }
 },
 "nbformat": 4,
 "nbformat_minor": 5
}
